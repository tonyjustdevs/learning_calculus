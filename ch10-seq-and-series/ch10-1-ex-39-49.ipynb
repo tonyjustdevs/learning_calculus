{
 "cells": [
  {
   "cell_type": "raw",
   "metadata": {
    "vscode": {
     "languageId": "raw"
    }
   },
   "source": [
    "---\n",
    "title: \"Calculus: Convergence & Divergence\"\n",
    "author: \"Tony Phung\"\n",
    "date: \"2025-02-10\"\n",
    "categories: [calculus]\n",
    "image: \"imgs/10-1-ex-39-49.png\"\n",
    "toc: true\n",
    "description: \"From Ch10-1 Sequences, Thomas 13e pp.582\"\n",
    "---"
   ]
  },
  {
   "cell_type": "markdown",
   "metadata": {},
   "source": [
    "![](imgs/10-1-ex-39-49.png)"
   ]
  }
 ],
 "metadata": {
  "kernelspec": {
   "display_name": "calculus-OqMfyyCX",
   "language": "python",
   "name": "python3"
  },
  "language_info": {
   "codemirror_mode": {
    "name": "ipython",
    "version": 3
   },
   "file_extension": ".py",
   "mimetype": "text/x-python",
   "name": "python",
   "nbconvert_exporter": "python",
   "pygments_lexer": "ipython3",
   "version": "3.10.12"
  }
 },
 "nbformat": 4,
 "nbformat_minor": 2
}
