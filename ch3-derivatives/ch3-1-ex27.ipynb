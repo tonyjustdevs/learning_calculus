{
 "cells": [
  {
   "cell_type": "markdown",
   "metadata": {},
   "source": [
    "# ch3-1-ex27"
   ]
  },
  {
   "cell_type": "markdown",
   "metadata": {},
   "source": [
    "# $f(x)=\\frac{1}{x-1}$"
   ]
  },
  {
   "cell_type": "markdown",
   "metadata": {},
   "source": [
    "\n",
    "Find equations of all lines having **Slope** $-1$ that are **tangent** to the\n",
    "curve "
   ]
  },
  {
   "cell_type": "markdown",
   "metadata": {},
   "source": [
    "# 1. Working-Out (Hand-written)\n",
    "<!-- ![](imgs/3-1-Ex-23workout.png) -->"
   ]
  },
  {
   "cell_type": "code",
   "execution_count": 2,
   "metadata": {},
   "outputs": [],
   "source": [
    "from matplotlib.ticker import MaxNLocator\n",
    "import numpy as np\n",
    "import matplotlib.pyplot as plt\n",
    "import matplotlib.ticker as ticker"
   ]
  },
  {
   "cell_type": "code",
   "execution_count": 17,
   "metadata": {},
   "outputs": [
    {
     "data": {
      "text/plain": [
       "<matplotlib.lines.Line2D at 0x7f2c76bdf460>"
      ]
     },
     "execution_count": 17,
     "metadata": {},
     "output_type": "execute_result"
    },
    {
     "data": {
      "image/png": "[encoded data removed]",
      "text/plain": [
       "<Figure size 640x480 with 1 Axes>"
      ]
     },
     "metadata": {},
     "output_type": "display_data"
    }
   ],
   "source": [
    "### x-values ###\n",
    "xpt = 1\n",
    "x_deviation = 1\n",
    "x_increments = 100\n",
    "xs_min = xpt - x_deviation\n",
    "xs_max = xpt + x_deviation\n",
    "xs = np.linspace(xs_min, xs_max, x_increments)  # XS\n",
    "\n",
    "### exclude x-values ### (eg f(x!=0)=1/x, f(x>0)=log(x))\n",
    "xs = xs[xs != 1]\n",
    "# xs = xs[xs > 0]\n",
    "\n",
    "### THE FUNCTION ###\n",
    "lbl_fx = r'$f(x)=\\frac{1}{x-1}$'   # LABEL\n",
    "fx_fx = lambda x: (1)/(x-1)  # f(x)\n",
    "# lbl_fx = r'$f(x)= 6.1t^{2}-9.28t+16.43$'   # LABEL\n",
    "\n",
    "### y-values ###\n",
    "ys_fx = fx_fx(xs)            # ys=f(xs)\n",
    "# ypt_fx = fx_fx(xpt)\n",
    "# print(f\"ypt_fx_at_P(x={xpt}): {ypt_fx}\")\n",
    "\n",
    "### fractions? ###\n",
    "# lbl_denom = r'$f(x)=x-2$'\n",
    "# fx_denom = lambda x: x-2\n",
    "# ys_denom = fx_denom(xs)\n",
    "\n",
    "### derivative ###\n",
    "# lbl_dydx = r\"$f'(x)=6.10*(2t)-9.28$ (dydx or slope fn)\"\n",
    "# fx_dydx = lambda x: 6.1*(2*x)-9.28\n",
    "# xpt_dydx = xpt\n",
    "# dydx = fx_dydx(xpt_dydx)\n",
    "# print(f\"ypt_dydx_at_P(x={xpt_dydx}): {dydx}\")\n",
    "\n",
    "### tangent ###\n",
    "# c_tangent = ypt_fx-(dydx)*(xpt)\n",
    "# tgt = \"tangent\"\n",
    "# lbl_tangent = rf'$f_t(x)={dydx:,.1f}t+{c_tangent:,.1f}$ (tangent at x={xpt})'\n",
    "# fx_tangent = lambda x: dydx*xs+c_tangent\n",
    "# ys_tangent = fx_tangent(xs)\n",
    "\n",
    "### plot things ####\n",
    "# plt.plot(xs, ys_fx,  'r^-', linewidth=2, markersize=6, label=lbl_fx)\n",
    "plt.plot(xs, ys_fx,  'o', markersize=3, label=lbl_fx)\n",
    "# plt.scatter(xs, ys_fx, marker=\"o\")\n",
    "# plt.plot(xs, ys_tangent,      'yo-', linewidth=2, markersize=6, label=lbl_tangent)\n",
    "# plt.plot(xs, ys_denom,      'bo-', linewidth=2, markersize=8, label=lbl_denom)\n",
    "# plt.scatter(x=xpt, y=fx_fx(xpt), marker=\"o\")\n",
    "\n",
    "##### EXTRAS: title, grid, legend, zooming, ticks, hline, vline, tickers #####\n",
    "\n",
    "# title\n",
    "plot_title = lbl_fx\n",
    "# plot_title = lbl_fx + f\" & it's tangent at x={xpt}\"\n",
    "# plot_title = lbl_fx + \"at (4,2)\"\n",
    "# plot_title = lbl_denom + \" and \" + lbl_denom + \"at (3,3)\"\n",
    "# plot_title = lbl_fx + \" and \" + lbl_tangent + \"at (4,2)\"\n",
    "plt.title(plot_title, loc='left')\n",
    "\n",
    "# grid \n",
    "plt.grid(color='lightgrey', linestyle='--', linewidth=0.5)\n",
    "\n",
    "# legend plt.legend(loc='upper right')\n",
    "plt.legend(loc='lower right')\n",
    "\n",
    "# zoom! enhance! #\n",
    "# plt.xlim(xpt-5,xpt+5)  # x-rng\n",
    "# plt.ylim(-0.1, 0.1)  # y-rng\n",
    "plt.xlim(0.5, 1.5)  # y-rng\n",
    "\n",
    "# vertical, horizontal, \n",
    "ax = plt.gca()  # Get the current axis\n",
    "ax.axvline(x=xpt, color='grey', linestyle='--', linewidth=0.5)\n",
    "# ax.axhline(y=fx_fx(xpt), color='grey', linestyle='--', linewidth=0.5)\n",
    "ax.axhline(y=0, color='grey', linestyle='--', linewidth=0.5)\n",
    "\n",
    "# X-LIMIT & VALUE\n",
    "# plt.vlines(x_at_c,linestyles=\"dotted\", ymin=plt.ylim()[0], ymax=max(ys)) # non-monotonic\n",
    "# plt.plot(x_at_c, 0.5,marker=\"o\",markersize=15, markerfacecolor='none', markeredgecolor='red')\n",
    "\n",
    "# OTHER\n",
    "# b+-- , o:b , r^ , bo    plt.xlabel(\"\") \n",
    "# plt.ylim(bottom=0)  # chart starts from y=0\n",
    "# ax.yaxis.set_minor_locator(ticker.MultipleLocator(0.000025)) # minor ticks\n",
    "# ref: https://matplotlib.org/stable/users/explain/axes/axes_ticks.html\n",
    "\n",
    "\n"
   ]
  },
  {
   "cell_type": "code",
   "execution_count": null,
   "metadata": {},
   "outputs": [],
   "source": []
  },
  {
   "cell_type": "code",
   "execution_count": null,
   "metadata": {},
   "outputs": [],
   "source": []
  },
  {
   "cell_type": "code",
   "execution_count": null,
   "metadata": {},
   "outputs": [],
   "source": []
  },
  {
   "cell_type": "code",
   "execution_count": null,
   "metadata": {},
   "outputs": [],
   "source": []
  }
 ],
 "metadata": {
  "kernelspec": {
   "display_name": "calculus-OqMfyyCX",
   "language": "python",
   "name": "python3"
  },
  "language_info": {
   "codemirror_mode": {
    "name": "ipython",
    "version": 3
   },
   "file_extension": ".py",
   "mimetype": "text/x-python",
   "name": "python",
   "nbconvert_exporter": "python",
   "pygments_lexer": "ipython3",
   "version": "3.10.12"
  }
 },
 "nbformat": 4,
 "nbformat_minor": 2
}
