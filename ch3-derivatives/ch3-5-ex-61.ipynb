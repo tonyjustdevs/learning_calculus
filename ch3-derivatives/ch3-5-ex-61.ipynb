{
 "cells": [
  {
   "cell_type": "markdown",
   "metadata": {},
   "source": [
    "## 3-5-Exercises-61"
   ]
  },
  {
   "cell_type": "markdown",
   "metadata": {},
   "source": [
    "Let $x=10\\cos(t)$. Find $x$ and $\\frac{dx}{dt}$ for: \n",
    "\n",
    "* $t=0$\n",
    "* $t=\\frac{\\pi}{3}$\n",
    "* $t=\\frac{3\\pi}{4}$"
   ]
  },
  {
   "cell_type": "markdown",
   "metadata": {},
   "source": [
    "# 1. Hand-Written Solution"
   ]
  },
  {
   "cell_type": "markdown",
   "metadata": {},
   "source": [
    "![](imgs/3-5-ex-61.png)"
   ]
  },
  {
   "cell_type": "markdown",
   "metadata": {},
   "source": [
    "# 2. Python Solution`"
   ]
  },
  {
   "cell_type": "code",
   "execution_count": 16,
   "metadata": {},
   "outputs": [
    {
     "name": "stdout",
     "output_type": "stream",
     "text": [
      "10.0 5.000000000000001 -7.071067811865475\n"
     ]
    }
   ],
   "source": [
    "import numpy as np\n",
    "# Let $x=10\\cos(t)$. Find $x$ and $\\frac{dx}{dt}$ for: \n",
    "\n",
    "fn_10cost = lambda t: 10*np.cos(t)\n",
    "a = fn_10cost(0)\n",
    "b = fn_10cost(np.pi/3)\n",
    "c = fn_10cost(3*np.pi/4)\n",
    "\n",
    "print(a,b,c)\n"
   ]
  },
  {
   "cell_type": "markdown",
   "metadata": {},
   "source": [
    "* $t=0$\n",
    "* $t=\\frac{\\pi}{3}$\n",
    "* $t=\\frac{3\\pi}{4}$"
   ]
  },
  {
   "cell_type": "code",
   "execution_count": 99,
   "metadata": {},
   "outputs": [
    {
     "name": "stdout",
     "output_type": "stream",
     "text": [
      "dxdt: \t\t-10*sin(t)\n",
      "-------------------------\n",
      "t = 0: \t\t\t0\n",
      "t = π/3: \t-5*sqrt(3)\n",
      "t = 3π/4: \t-5*sqrt(2)\n",
      "\n",
      "t = 0: \t\t         0\n",
      "t = π/3: \t      -8.7\n",
      "t = 3π/4: \t      -7.1\n"
     ]
    }
   ],
   "source": [
    "from sympy import symbols, diff, sin, cos, pi\n",
    "\n",
    "x = symbols('x')\n",
    "t = symbols('t')\n",
    "# t = 10*np.cos()   # does not work with fns, need to use sympys symbol instead\n",
    "x = 10*cos(t)\n",
    "dxdt = diff(x,t)    # calc derv\n",
    "rl = 10\n",
    "print(f\"dxdt: \\t\\t{str(dxdt):>{rl}}\")\n",
    "print(\"-\"*25)\n",
    "\n",
    "# # value_at_point = dxdt.subs(x, 3 * pi / 4)\n",
    "# value_at_point = dxdt.subs(t, 0)\n",
    "# value_at_point = dxdt.subs(t, pi / 3)\n",
    "# value_at_point = dxdt.subs(t, 3 * pi / 4)\n",
    "# print(f\"t = 0: {value_at_point:>10}\")\n",
    "# print(f\"t = π/3: {value_at_point:>10}\")\n",
    "# print(f\"t = 3π/4: {value_at_point:>10}\")\n",
    "\n",
    "# Evaluate derivative at specific points\n",
    "# value_at_t0 = str(dxdt.subs(t, 0).evalf())\n",
    "# value_at_pi_over_3 = str(round(dxdt.subs(t, pi / 3).evalf(),2))\n",
    "# value_at_3pi_over_4 = str(round(dxdt.subs(t, 3 * pi / 4),2))\n",
    "\n",
    "\n",
    "value_at_t0 = str(dxdt.subs(t, 0))\n",
    "value_at_pi_over_3 = dxdt.subs(t, pi / 3)\n",
    "value_at_3pi_over_4 =dxdt.subs(t, 3 * pi / 4)\n",
    "\n",
    "print(f\"t = 0: \\t\\t\\t{value_at_t0}\")\n",
    "print(f\"t = π/3: \\t{value_at_pi_over_3}\")\n",
    "print(f\"t = 3π/4: \\t{value_at_3pi_over_4}\")\n",
    "print()\n",
    "\n",
    "print(f\"t = 0: \\t\\t{value_at_t0:>{rl}}\")\n",
    "print(f\"t = π/3: \\t{round(value_at_pi_over_3,1):>{rl}}\")\n",
    "print(f\"t = 3π/4: \\t{round(value_at_3pi_over_4,1):>{rl}}\")"
   ]
  }
 ],
 "metadata": {
  "kernelspec": {
   "display_name": "calculus-OqMfyyCX",
   "language": "python",
   "name": "python3"
  },
  "language_info": {
   "codemirror_mode": {
    "name": "ipython",
    "version": 3
   },
   "file_extension": ".py",
   "mimetype": "text/x-python",
   "name": "python",
   "nbconvert_exporter": "python",
   "pygments_lexer": "ipython3",
   "version": "3.10.12"
  }
 },
 "nbformat": 4,
 "nbformat_minor": 2
}
