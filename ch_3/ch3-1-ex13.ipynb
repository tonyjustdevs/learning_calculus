{
 "cells": [
  {
   "cell_type": "markdown",
   "metadata": {},
   "source": [
    "# ch3-1-ex13"
   ]
  },
  {
   "cell_type": "markdown",
   "metadata": {},
   "source": [
    "## Find $f'(x) = \\frac{x}{x-2}$ at $(3,3)$ "
   ]
  },
  {
   "cell_type": "code",
   "execution_count": 2,
   "metadata": {},
   "outputs": [],
   "source": [
    "from matplotlib.ticker import MaxNLocator\n",
    "import numpy as np\n",
    "import matplotlib.pyplot as plt\n",
    "import matplotlib.ticker as ticker"
   ]
  },
  {
   "cell_type": "code",
   "execution_count": null,
   "metadata": {},
   "outputs": [],
   "source": [
    "x_at_c = 3\n",
    "x_deviation = 10\n",
    "x_increments = 97\n",
    "xs_min = x_at_c-x_deviation\n",
    "xs_max = x_at_c+x_deviation\n",
    "xs = np.linspace(xs_min, xs_max, x_increments)\n",
    "\n",
    "# # X-EXCLUDE LIMIT VALUE\n",
    "# xs = xs[xs != 0]\n",
    "\n",
    "lbl_numerator = r'$f(x)=x$'\n",
    "fx_numerator = lambda x: x\n",
    "ys_numerator = fx_numerator(xs)\n",
    "\n",
    "lbl_denom = r'$f(x)=x-2$'\n",
    "fx_denom = lambda x: x-2\n",
    "ys_denom = fx_denom(xs)\n",
    "\n",
    "plot_title = lbl_denom + \" and \" + lbl_denom + \"at (3,3)\"\n",
    "\n",
    "plt.plot(xs, ys_numerator,  'r^-', linewidth=2, markersize=8, label=lbl_numerator)\n",
    "plt.plot(xs, ys_denom,      'bo-', linewidth=2, markersize=8, label=lbl_denom)\n",
    "# plt.scatter(xs, ys, marker=\"o\")\n",
    "\n",
    "# zoom and enhance!\n",
    "# plt.xlim(-5, 1)  # X-axis range\n",
    "# plt.ylim(-30, 20)  # Y-axis range\n",
    "# plt.xlim(-0.1, 0.1)  # X-axis range\n",
    "# plt.ylim(-0.1, 0.1)  # Y-axis range\n",
    "\n",
    "# Add grid, title, and legend\n",
    "plt.grid(color='lightgrey', linestyle='--', linewidth=0.5)\n",
    "plt.title(plot_title, loc='left')\n",
    "# plt.title(r\"$12*x+16$\", loc='left')\n",
    "plt.legend(loc='upper right')\n",
    "\n",
    "# Optionally, add vertical and horizontal lines to highlight the zoomed area\n",
    "ax = plt.gca()  # Get the current axis\n",
    "ax.axvline(x=3, color='grey', linestyle='--', linewidth=0.5)\n",
    "ax.axhline(y=3, color='grey', linestyle='--', linewidth=0.5)\n",
    "\n",
    "# # X-LIMIT & VALUE\n",
    "# plt.vlines(x_at_c,linestyles=\"dotted\", ymin=plt.ylim()[0], ymax=max(ys)) # non-monotonic\n",
    "# # plt.plot(x_at_c, 0.5,marker=\"o\",markersize=15, markerfacecolor='none', markeredgecolor='red')\n",
    "\n",
    "# # OTHER\n",
    "# # # b+-- , o:b , r^ , bo    plt.xlabel(\"\") \n",
    "# # plt.ylim(bottom=0)  # chart starts from y=0\n",
    "# # ax.yaxis.set_minor_locator(ticker.MultipleLocator(0.000025)) # minor ticks\n",
    "# # ref: https://matplotlib.org/stable/users/explain/axes/axes_ticks.html\n"
   ]
  },
  {
   "cell_type": "code",
   "execution_count": 22,
   "metadata": {},
   "outputs": [
    {
     "ename": "KeyboardInterrupt",
     "evalue": "",
     "output_type": "error",
     "traceback": [
      "\u001b[0;31m---------------------------------------------------------------------------\u001b[0m",
      "\u001b[0;31mKeyboardInterrupt\u001b[0m                         Traceback (most recent call last)",
      "Cell \u001b[0;32mIn[22], line 4\u001b[0m\n\u001b[1;32m      2\u001b[0m x_at_c \u001b[38;5;241m=\u001b[39m \u001b[38;5;241m3\u001b[39m\n\u001b[1;32m      3\u001b[0m x_deviation \u001b[38;5;241m=\u001b[39m \u001b[38;5;241m3\u001b[39m\n\u001b[0;32m----> 4\u001b[0m x_increments \u001b[38;5;241m=\u001b[39m \u001b[38;5;241m51\u001b[39m\n\u001b[1;32m      5\u001b[0m xs_min \u001b[38;5;241m=\u001b[39m x_at_c\u001b[38;5;241m-\u001b[39mx_deviation\n\u001b[1;32m      6\u001b[0m xs_max \u001b[38;5;241m=\u001b[39m x_at_c\u001b[38;5;241m+\u001b[39mx_deviation\n",
      "Cell \u001b[0;32mIn[22], line 4\u001b[0m\n\u001b[1;32m      2\u001b[0m x_at_c \u001b[38;5;241m=\u001b[39m \u001b[38;5;241m3\u001b[39m\n\u001b[1;32m      3\u001b[0m x_deviation \u001b[38;5;241m=\u001b[39m \u001b[38;5;241m3\u001b[39m\n\u001b[0;32m----> 4\u001b[0m x_increments \u001b[38;5;241m=\u001b[39m \u001b[38;5;241m51\u001b[39m\n\u001b[1;32m      5\u001b[0m xs_min \u001b[38;5;241m=\u001b[39m x_at_c\u001b[38;5;241m-\u001b[39mx_deviation\n\u001b[1;32m      6\u001b[0m xs_max \u001b[38;5;241m=\u001b[39m x_at_c\u001b[38;5;241m+\u001b[39mx_deviation\n",
      "File \u001b[0;32m_pydevd_bundle\\\\pydevd_cython.pyx:1697\u001b[0m, in \u001b[0;36m_pydevd_bundle.pydevd_cython.SafeCallWrapper.__call__\u001b[0;34m()\u001b[0m\n",
      "File \u001b[0;32m_pydevd_bundle\\\\pydevd_cython.pyx:634\u001b[0m, in \u001b[0;36m_pydevd_bundle.pydevd_cython.PyDBFrame.trace_dispatch\u001b[0;34m()\u001b[0m\n",
      "File \u001b[0;32m_pydevd_bundle\\\\pydevd_cython.pyx:1368\u001b[0m, in \u001b[0;36m_pydevd_bundle.pydevd_cython.PyDBFrame.trace_dispatch\u001b[0;34m()\u001b[0m\n",
      "File \u001b[0;32m_pydevd_bundle\\\\pydevd_cython.pyx:1311\u001b[0m, in \u001b[0;36m_pydevd_bundle.pydevd_cython.PyDBFrame.trace_dispatch\u001b[0;34m()\u001b[0m\n",
      "File \u001b[0;32m_pydevd_bundle\\\\pydevd_cython.pyx:494\u001b[0m, in \u001b[0;36m_pydevd_bundle.pydevd_cython.PyDBFrame.do_wait_suspend\u001b[0;34m()\u001b[0m\n",
      "File \u001b[0;32m~/.local/share/virtualenvs/calculus-OqMfyyCX/lib/python3.10/site-packages/debugpy/_vendored/pydevd/pydevd.py:2185\u001b[0m, in \u001b[0;36mPyDB.do_wait_suspend\u001b[0;34m(self, thread, frame, event, arg, exception_type)\u001b[0m\n\u001b[1;32m   2182\u001b[0m             from_this_thread\u001b[38;5;241m.\u001b[39mappend(frame_custom_thread_id)\n\u001b[1;32m   2184\u001b[0m     \u001b[38;5;28;01mwith\u001b[39;00m \u001b[38;5;28mself\u001b[39m\u001b[38;5;241m.\u001b[39m_threads_suspended_single_notification\u001b[38;5;241m.\u001b[39mnotify_thread_suspended(thread_id, thread, stop_reason):\n\u001b[0;32m-> 2185\u001b[0m         keep_suspended \u001b[38;5;241m=\u001b[39m \u001b[38;5;28;43mself\u001b[39;49m\u001b[38;5;241;43m.\u001b[39;49m\u001b[43m_do_wait_suspend\u001b[49m\u001b[43m(\u001b[49m\u001b[43mthread\u001b[49m\u001b[43m,\u001b[49m\u001b[43m \u001b[49m\u001b[43mframe\u001b[49m\u001b[43m,\u001b[49m\u001b[43m \u001b[49m\u001b[43mevent\u001b[49m\u001b[43m,\u001b[49m\u001b[43m \u001b[49m\u001b[43marg\u001b[49m\u001b[43m,\u001b[49m\u001b[43m \u001b[49m\u001b[43mtrace_suspend_type\u001b[49m\u001b[43m,\u001b[49m\u001b[43m \u001b[49m\u001b[43mfrom_this_thread\u001b[49m\u001b[43m,\u001b[49m\u001b[43m \u001b[49m\u001b[43mframes_tracker\u001b[49m\u001b[43m)\u001b[49m\n\u001b[1;32m   2187\u001b[0m frames_list \u001b[38;5;241m=\u001b[39m \u001b[38;5;28;01mNone\u001b[39;00m\n\u001b[1;32m   2189\u001b[0m \u001b[38;5;28;01mif\u001b[39;00m keep_suspended:\n\u001b[1;32m   2190\u001b[0m     \u001b[38;5;66;03m# This means that we should pause again after a set next statement.\u001b[39;00m\n",
      "File \u001b[0;32m~/.local/share/virtualenvs/calculus-OqMfyyCX/lib/python3.10/site-packages/debugpy/_vendored/pydevd/pydevd.py:2254\u001b[0m, in \u001b[0;36mPyDB._do_wait_suspend\u001b[0;34m(self, thread, frame, event, arg, trace_suspend_type, from_this_thread, frames_tracker)\u001b[0m\n\u001b[1;32m   2251\u001b[0m                 queue\u001b[38;5;241m.\u001b[39mput(internal_cmd)\n\u001b[1;32m   2252\u001b[0m                 wait_timeout \u001b[38;5;241m=\u001b[39m TIMEOUT_FAST\n\u001b[0;32m-> 2254\u001b[0m         \u001b[43mnotify_event\u001b[49m\u001b[38;5;241;43m.\u001b[39;49m\u001b[43mwait\u001b[49m\u001b[43m(\u001b[49m\u001b[43mwait_timeout\u001b[49m\u001b[43m)\u001b[49m\n\u001b[1;32m   2255\u001b[0m         notify_event\u001b[38;5;241m.\u001b[39mclear()\n\u001b[1;32m   2257\u001b[0m \u001b[38;5;28;01mfinally\u001b[39;00m:\n",
      "File \u001b[0;32m/usr/lib/python3.10/threading.py:607\u001b[0m, in \u001b[0;36mEvent.wait\u001b[0;34m(self, timeout)\u001b[0m\n\u001b[1;32m    605\u001b[0m signaled \u001b[38;5;241m=\u001b[39m \u001b[38;5;28mself\u001b[39m\u001b[38;5;241m.\u001b[39m_flag\n\u001b[1;32m    606\u001b[0m \u001b[38;5;28;01mif\u001b[39;00m \u001b[38;5;129;01mnot\u001b[39;00m signaled:\n\u001b[0;32m--> 607\u001b[0m     signaled \u001b[38;5;241m=\u001b[39m \u001b[38;5;28;43mself\u001b[39;49m\u001b[38;5;241;43m.\u001b[39;49m\u001b[43m_cond\u001b[49m\u001b[38;5;241;43m.\u001b[39;49m\u001b[43mwait\u001b[49m\u001b[43m(\u001b[49m\u001b[43mtimeout\u001b[49m\u001b[43m)\u001b[49m\n\u001b[1;32m    608\u001b[0m \u001b[38;5;28;01mreturn\u001b[39;00m signaled\n",
      "File \u001b[0;32m/usr/lib/python3.10/threading.py:324\u001b[0m, in \u001b[0;36mCondition.wait\u001b[0;34m(self, timeout)\u001b[0m\n\u001b[1;32m    322\u001b[0m \u001b[38;5;28;01melse\u001b[39;00m:\n\u001b[1;32m    323\u001b[0m     \u001b[38;5;28;01mif\u001b[39;00m timeout \u001b[38;5;241m>\u001b[39m \u001b[38;5;241m0\u001b[39m:\n\u001b[0;32m--> 324\u001b[0m         gotit \u001b[38;5;241m=\u001b[39m \u001b[43mwaiter\u001b[49m\u001b[38;5;241;43m.\u001b[39;49m\u001b[43macquire\u001b[49m\u001b[43m(\u001b[49m\u001b[38;5;28;43;01mTrue\u001b[39;49;00m\u001b[43m,\u001b[49m\u001b[43m \u001b[49m\u001b[43mtimeout\u001b[49m\u001b[43m)\u001b[49m\n\u001b[1;32m    325\u001b[0m     \u001b[38;5;28;01melse\u001b[39;00m:\n\u001b[1;32m    326\u001b[0m         gotit \u001b[38;5;241m=\u001b[39m waiter\u001b[38;5;241m.\u001b[39macquire(\u001b[38;5;28;01mFalse\u001b[39;00m)\n",
      "\u001b[0;31mKeyboardInterrupt\u001b[0m: "
     ]
    }
   ],
   "source": [
    "##################### FINAL FUNCTION ##################### \n",
    "x_at_c = 3\n",
    "x_deviation = 3\n",
    "x_increments = 51\n",
    "xs_min = x_at_c-x_deviation\n",
    "xs_max = x_at_c+x_deviation\n",
    "xs = np.linspace(xs_min, xs_max, x_increments)\n",
    "\n",
    "# # X-EXCLUDE LIMIT VALUE\n",
    "xs = xs[xs != 2]\n",
    "\n",
    "# lbl_numerator = r'$f(x)=x$'\n",
    "# fx_numerator = lambda x: x\n",
    "# ys_numerator = fx_numerator(xs)\n",
    "\n",
    "# lbl_denom = r'$f(x)=x-2$'\n",
    "# fx_denom = lambda x: x-2\n",
    "# ys_denom = fx_denom(xs)\n",
    "\n",
    "lbl_fx = r'$f(x)=\\frac{x}{x-2}$'\n",
    "fx_fx = lambda x: (x)/(x-2)\n",
    "ys_fx = fx_fx(xs)\n",
    "\n",
    "# plot_title = lbl_denom + \" and \" + lbl_denom + \"at (3,3)\"\n",
    "plot_title = lbl_fx\n",
    "\n",
    "# plt.plot(xs, ys_numerator,  'r^-', linewidth=2, markersize=8, label=lbl_numerator)\n",
    "# plt.plot(xs, ys_denom,      'bo-', linewidth=2, markersize=8, label=lbl_denom)\n",
    "plt.scatter(xs, ys_fx, marker=\"o\", label=lbl_fx)\n",
    "\n",
    "# zoom and enhance!\n",
    "# plt.xlim(-5, 1)  # X-axis range\n",
    "plt.ylim(-8,8)  # Y-axis range\n",
    "plt.xlim(-2, 7)  # X-axis range\n",
    "# plt.ylim(-3.1, 3.1)  # Y-axis range\n",
    "\n",
    "# Add grid, title, and legend\n",
    "plt.grid(color='lightgrey', linestyle='--', linewidth=0.5)\n",
    "plt.title(plot_title, loc='left')\n",
    "# plt.title(r\"$12*x+16$\", loc='left')\n",
    "plt.legend(loc='upper right')\n",
    "\n",
    "# Optionally, add vertical and horizontal lines to highlight the zoomed area\n",
    "ax = plt.gca()  # Get the current axis\n",
    "ax.axvline(x=3, color='grey', linestyle='--', linewidth=0.5)\n",
    "ax.axhline(y=3, color='grey', linestyle='--', linewidth=0.5)"
   ]
  },
  {
   "cell_type": "code",
   "execution_count": null,
   "metadata": {},
   "outputs": [],
   "source": [
    "# # X-LIMIT & VALUE\n",
    "# plt.vlines(x_at_c,linestyles=\"dotted\", ymin=plt.ylim()[0], ymax=max(ys)) # non-monotonic\n",
    "# # plt.plot(x_at_c, 0.5,marker=\"o\",markersize=15, markerfacecolor='none', markeredgecolor='red')\n",
    "\n",
    "# # OTHER\n",
    "# # # b+-- , o:b , r^ , bo    plt.xlabel(\"\") \n",
    "# # plt.ylim(bottom=0)  # chart starts from y=0\n",
    "# # ax.yaxis.set_minor_locator(ticker.MultipleLocator(0.000025)) # minor ticks\n",
    "# # ref: https://matplotlib.org/stable/users/explain/axes/axes_ticks.html\n"
   ]
  }
 ],
 "metadata": {
  "kernelspec": {
   "display_name": "calculus-OqMfyyCX",
   "language": "python",
   "name": "python3"
  },
  "language_info": {
   "codemirror_mode": {
    "name": "ipython",
    "version": 3
   },
   "file_extension": ".py",
   "mimetype": "text/x-python",
   "name": "python",
   "nbconvert_exporter": "python",
   "pygments_lexer": "ipython3",
   "version": "3.10.12"
  }
 },
 "nbformat": 4,
 "nbformat_minor": 2
}
